{
  "nbformat": 4,
  "nbformat_minor": 0,
  "metadata": {
    "colab": {
      "name": "crawling_route.ipynb",
      "private_outputs": true,
      "provenance": [],
      "collapsed_sections": [],
      "mount_file_id": "1Q9gF8Oi2-y9Xfm6cFtZaCulrdlYZNk3q",
      "authorship_tag": "ABX9TyNkyRN0GjrXuF+2UC5mffIF",
      "include_colab_link": true
    },
    "kernelspec": {
      "name": "python3",
      "display_name": "Python 3"
    },
    "language_info": {
      "name": "python"
    }
  },
  "cells": [
    {
      "cell_type": "markdown",
      "metadata": {
        "id": "view-in-github",
        "colab_type": "text"
      },
      "source": [
        "<a href=\"https://colab.research.google.com/github/call-bureng-AI/data/blob/main/crawling_route.ipynb\" target=\"_parent\"><img src=\"https://colab.research.google.com/assets/colab-badge.svg\" alt=\"Open In Colab\"/></a>"
      ]
    },
    {
      "cell_type": "markdown",
      "source": [
        "## install selenium"
      ],
      "metadata": {
        "id": "z6I_LEJ5Lcch"
      }
    },
    {
      "cell_type": "code",
      "execution_count": null,
      "metadata": {
        "id": "9klgnnFNLMse"
      },
      "outputs": [],
      "source": [
        "# 한 번만 실행\n",
        "!pip install selenium\n",
        "!apt-get update\n",
        "!apt install chromium-chromedriver\n",
        "!cp /usr/lib/chromium-browser/chromedriver /usr/bin"
      ]
    },
    {
      "cell_type": "markdown",
      "source": [
        "## import"
      ],
      "metadata": {
        "id": "hVnHwjfgL7Ak"
      }
    },
    {
      "cell_type": "code",
      "source": [
        "from selenium import webdriver\n",
        "from selenium.webdriver.support.ui import Select\n",
        "from selenium.webdriver.common.by import By\n",
        "\n",
        "import pandas as pd\n",
        "from tqdm import tqdm\n",
        "import json"
      ],
      "metadata": {
        "id": "advMfcJvLoHD"
      },
      "execution_count": null,
      "outputs": []
    },
    {
      "cell_type": "code",
      "source": [
        "# colab에서는 웹브라우저 창이 뜨지 않아 별도 설정\n",
        "options = webdriver.ChromeOptions()\n",
        "options.add_argument('--headless')        # Head-less 설정\n",
        "options.add_argument('--no-sandbox')\n",
        "options.add_argument('--disable-dev-shm-usage')\n",
        "driver = webdriver.Chrome('chromedriver', options=options)"
      ],
      "metadata": {
        "id": "-NaQ-LY2L50G"
      },
      "execution_count": null,
      "outputs": []
    },
    {
      "cell_type": "markdown",
      "source": [
        "## crawling"
      ],
      "metadata": {
        "id": "gyf2EUWGMFtP"
      }
    },
    {
      "cell_type": "code",
      "source": [
        "driver.get(\"http://www.exterminal.co.kr/line.asp\")"
      ],
      "metadata": {
        "id": "-QbMP-U_LuHq"
      },
      "execution_count": null,
      "outputs": []
    },
    {
      "cell_type": "code",
      "source": [
        "# iframe(웹페이지 안 웹페이지) 태그로 변경\n",
        "driver.switch_to.frame(driver.find_element(By.XPATH, '//iframe[@src=\"./include/kobus_rsv2.asp\"]'))"
      ],
      "metadata": {
        "id": "yDxlmXgxLvrG"
      },
      "execution_count": null,
      "outputs": []
    },
    {
      "cell_type": "code",
      "source": [
        "def get_route():\n",
        "    route = {}\n",
        "\n",
        "    # 출발지 선택\n",
        "    select_dep = Select(driver.find_element(By.ID, \"regForm01\"))\n",
        "    options_dep = select_dep.options\n",
        "\n",
        "    for i in tqdm(range(1, len(options_dep)), desc=\"crawling...\"):\n",
        "        select_dep.select_by_index(i)\n",
        "        dep = select_dep.first_selected_option.text\n",
        "    \n",
        "        # 도착지 목록 가져오기\n",
        "        select_arr = Select(driver.find_element(By.ID, \"regForm02\"))\n",
        "        options = select_arr.options\n",
        "\n",
        "        arr = []\n",
        "        for option in options:\n",
        "            arr.append(option.text)\n",
        "    \n",
        "        route[dep] = arr\n",
        "    \n",
        "    return route"
      ],
      "metadata": {
        "id": "VtSaVFlbLw_J"
      },
      "execution_count": null,
      "outputs": []
    },
    {
      "cell_type": "code",
      "source": [
        "route = get_route()"
      ],
      "metadata": {
        "id": "jrGqUAUPLydu"
      },
      "execution_count": null,
      "outputs": []
    },
    {
      "cell_type": "code",
      "source": [
        "route"
      ],
      "metadata": {
        "id": "ekXUJHOpL0E8"
      },
      "execution_count": null,
      "outputs": []
    },
    {
      "cell_type": "code",
      "source": [
        "keys = []\n",
        "values = []\n",
        "\n",
        "for key, value in route.items():\n",
        "     for v in value:\n",
        "        keys.append(key)\n",
        "        values.append(v)\n",
        "\n",
        "route_df = pd.DataFrame({'dep' : keys, 'arr' : values})\n",
        "\n",
        "# save\n",
        "route_df.to_csv('route.csv', index = False)"
      ],
      "metadata": {
        "id": "xLU4FaaCL0t3"
      },
      "execution_count": null,
      "outputs": []
    }
  ]
}