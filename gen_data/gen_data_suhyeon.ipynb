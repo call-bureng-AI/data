{
  "nbformat": 4,
  "nbformat_minor": 0,
  "metadata": {
    "colab": {
      "name": "gen_data_suhyeon.ipynb",
      "private_outputs": true,
      "provenance": [],
      "mount_file_id": "1yOVQje6vhRqeF3OVGSuX4Y1xazRCwZ5w",
      "authorship_tag": "ABX9TyMPm+pVkszpWGeSuHIhJqDs"
    },
    "kernelspec": {
      "name": "python3",
      "display_name": "Python 3"
    },
    "language_info": {
      "name": "python"
    }
  },
  "cells": [
    {
      "cell_type": "markdown",
      "source": [
        "## import"
      ],
      "metadata": {
        "id": "_hFSozjgGtX6"
      }
    },
    {
      "cell_type": "code",
      "source": [
        "import pandas as pd\n",
        "import numpy as np\n",
        "import random\n",
        "from datetime import datetime"
      ],
      "metadata": {
        "id": "iiI2YHd6CAoj"
      },
      "execution_count": null,
      "outputs": []
    },
    {
      "cell_type": "markdown",
      "source": [
        "## slot_data\n"
      ],
      "metadata": {
        "id": "W3T9TDv3C6HD"
      }
    },
    {
      "cell_type": "code",
      "source": [
        "PATH = '/content/drive/MyDrive/call_bureng/data/slot_data'\n",
        "dep = pd.read_csv(PATH + '/route.csv')\n",
        "dep_list=dep.iloc[:,0].unique().tolist()\n",
        "route=dep.values.tolist()"
      ],
      "metadata": {
        "id": "wearqUudC4R5"
      },
      "execution_count": null,
      "outputs": []
    },
    {
      "cell_type": "code",
      "source": [
        "def date_range(start, end):\n",
        "    start = datetime.strptime(start, \"%m월 %d일\")\n",
        "    end = datetime.strptime(end, \"%m월 %d일\")\n",
        "    dates = [date.strftime(\"%-m월 %-d일\") for date in pd.date_range(start, periods=(end-start).days+1)]\n",
        "   \n",
        "    return dates"
      ],
      "metadata": {
        "id": "DSMEA98kC-wu"
      },
      "execution_count": null,
      "outputs": []
    },
    {
      "cell_type": "code",
      "source": [
        "date = date_range(\"1월 1일\", \"12월 31일\")\n",
        "people=['일반',\t'중고생', '아동', '국가유공자', '성인', '어른', '어린이', '아기', '애기',\t'초등학생', '청소년', '중학생', '고등학생']\n",
        "now=['지금','당장','빨리','현재','최대한 빨리','가장 빠른','가장 빨리', '빨리빨리']\n",
        "forward_time=['낮','오전','오후','밤','저녁','아침','새벽']\n",
        "date_exact=['오늘','익일','금일','명일','내일','모레','내일 모레','보름']\n",
        "date_not_exact=['이번주','다음주','다다음주']\n",
        "date_not_exact_with_int=['주 뒤','일 뒤','주일 뒤']\n",
        "day=['월요일','화요일','수요일','목요일','금요일','토요일','일요일']"
      ],
      "metadata": {
        "id": "XXP8CCpJDF-m"
      },
      "execution_count": null,
      "outputs": []
    },
    {
      "cell_type": "code",
      "source": [
        "some_date=pd.Series([date, date_exact, now], index=['date', 'date_exact', 'now'])\n",
        "some_date"
      ],
      "metadata": {
        "id": "rNruKEzwDSaz"
      },
      "execution_count": null,
      "outputs": []
    },
    {
      "cell_type": "code",
      "source": [
        "def get_route():\n",
        "  st=random.choice(dep_list)\n",
        "  match=[i for i in range(len(route)) if route[i][0]==st]\n",
        "  end=route[random.choice(match)][1]\n",
        "  return \"/DEP;\"+st+'/', \"/ARR;\"+end+'/'\n",
        "\n",
        "def get_date(i):\n",
        "  return '/DATE;'+random.choice(some_date[i])+'/'\n",
        "\n",
        "#ex.이번주 월요일\n",
        "def get_date_with_day():\n",
        "  return '/DATE;'+random.choice(date_not_exact)+' '+random.choice(day)+'/'\n",
        "\n",
        "#ex.1주일 뒤\n",
        "def get_date_not_exact_int():\n",
        "  return '/DATE;'+str(np.random.randint(1,6))+random.choice(date_not_exact_with_int)+'/'\n",
        "\n",
        "#ex. 낮 12시\n",
        "def get_dtime_hour():\n",
        "  return '/DEP_TIME;'+random.choice(forward_time)+' '+str(np.random.randint(1,12))+'시'+'/'\n",
        "\n",
        "#ex. 18시\n",
        "def get_dtime_full_hour():\n",
        "  return '/DEP_TIME;'+str(np.random.randint(0,24))+'시'+'/'\n",
        "\n",
        "#ex. 낮 12시 30분, 낮 12시 반\n",
        "def get_dtime_hour_exact_min():\n",
        "  return '/DEP_TIME;'+random.choice(forward_time)+' '+str(np.random.randint(1,12))+'시'+random.choice(['반',str(np.random.randint(1,60))+'분'])+'/'\n",
        "\n",
        "#ex. 18시 30분\n",
        "def get_dtime_full_hour_exact_min():\n",
        "  return '/DEP_TIME;'+str(np.random.randint(0,24))+'시'+random.choice(['반',str(np.random.randint(1,60))+'분'])+'/'\n",
        "\n",
        "#ex. 12시간 뒤\n",
        "def get_dtime_hour_later():\n",
        "  return '/DEP_TIME;'+str(np.random.randint(1,12))+random.choice(['시간 뒤','시간 후'])+'/'\n",
        "\n",
        "#ex. 30분 뒤\n",
        "def get_dtime_min_later():\n",
        "  return '/DEP_TIME;'+str(np.random.randint(1,60))+random.choice(['분 뒤','분 후'])+'/'\n",
        " \n",
        "def get_atime_hour():\n",
        "  return '/ARR_TIME;'+random.choice(forward_time)+' '+str(np.random.randint(1,12))+'시'+random.choice(['',' 반'])+'/'\n",
        "\n",
        "def get_atime_hour_exact_min():\n",
        "  return '/ARR_TIME;'+random.choice(forward_time)+' '+str(np.random.randint(1,12))+'시'+str(np.random.randint(1,60))+'분'+'/'\n",
        "\n",
        "def get_atime_hour_later():\n",
        "  return '/ARR_TIME;'+str(np.random.randint(1,12))+random.choice(['시간 뒤','시간 후'])+'/'\n",
        "\n",
        "def get_atime_full_hour():\n",
        "  return '/ARR_TIME;'+str(np.random.randint(0,24))+'시'+'/'\n",
        "\n",
        "def get_atime_full_hour_exact_min():\n",
        "  return '/ARR_TIME;'+str(np.random.randint(0,24))+'시'+random.choice(['반',str(np.random.randint(1,60))+'분'])+'/'"
      ],
      "metadata": {
        "id": "3p1VTzm6DUMV"
      },
      "execution_count": null,
      "outputs": []
    },
    {
      "cell_type": "code",
      "source": [
        "reserve=['예약','예매']\n",
        "ending=['할래','해줘','해','하려 해','하려하는데 표 있어?']"
      ],
      "metadata": {
        "id": "hiqUmJllFM95"
      },
      "execution_count": null,
      "outputs": []
    },
    {
      "cell_type": "markdown",
      "source": [
        "## generate data"
      ],
      "metadata": {
        "id": "MBzlTYJRKRRm"
      }
    },
    {
      "cell_type": "code",
      "source": [
        "#start에서 end로 가는 date dep_time에 출발하는 버스 예약해줘\n",
        "bus_list_d_1=[]\n",
        "for i in range(800):\n",
        "    start, end = get_route()\n",
        "    date = random.choice([get_date_with_day(),get_date_not_exact_int(),get_date(random.choice([0,2]))])\n",
        "    dep_time = random.choice([get_dtime_hour(), get_dtime_full_hour(), get_dtime_hour_exact_min(), get_dtime_full_hour_exact_min(), get_dtime_hour_later(), get_dtime_min_later()])\n",
        "    \n",
        "    bus_list_d_1.append(start+'에서 '+end+random.choice(['로', '으로'])+' 가는 '+date+dep_time+'에 출발하는 버스 '+random.choice(reserve)+' '+random.choice(ending))"
      ],
      "metadata": {
        "id": "om7FKMw3Eijt"
      },
      "execution_count": null,
      "outputs": []
    },
    {
      "cell_type": "code",
      "source": [
        " #start 출발 end 도착 date 출발 시각은 dep_time\n",
        "bus_list_d_2=[]\n",
        "for i in range(800):\n",
        "    start, end = get_route()\n",
        "    date = random.choice([get_date_with_day(),get_date_not_exact_int(),get_date(random.choice([0,2]))])\n",
        "    dep_time = random.choice([get_dtime_hour(), get_dtime_full_hour(), get_dtime_hour_exact_min(), get_dtime_full_hour_exact_min(), get_dtime_hour_later(), get_dtime_min_later()])\n",
        "\n",
        "    bus_list_d_2.append(start+' 출발 '+end+' 도착 '+date+'출발 시각은 '+dep_time)"
      ],
      "metadata": {
        "id": "DSUAZ6faHP3K"
      },
      "execution_count": null,
      "outputs": []
    },
    {
      "cell_type": "code",
      "source": [
        "#start에서 end 차 dep_time 예약할래\n",
        "bus_list_d_3=[]\n",
        "for i in range(800):\n",
        "    start, end = get_route()\n",
        "    dep_time = random.choice([get_dtime_hour(), get_dtime_full_hour(), get_dtime_hour_exact_min(), get_dtime_full_hour_exact_min(), get_dtime_hour_later(), get_dtime_min_later()])\n",
        "\n",
        "    bus_list_d_3.append(start+'에서 '+end+random.choice([' ', ' 차 ', ' 버스 ', ' 티켓 '])+dep_time+random.choice(reserve)+' '+random.choice(ending))"
      ],
      "metadata": {
        "id": "du-QIuKxmSvJ"
      },
      "execution_count": null,
      "outputs": []
    },
    {
      "cell_type": "code",
      "source": [
        "#start에서 end 로 가는 버스 date arr_time 안에 도착하는 걸로 예약해줘\n",
        "bus_list_d_4=[]\n",
        "for i in range(800):\n",
        "    start, end = get_route()\n",
        "    arr_time = random.choice([get_atime_hour(), get_atime_full_hour(), get_atime_hour_exact_min(), get_atime_full_hour_exact_min(), get_atime_hour_later()])\n",
        "\n",
        "    bus_list_d_4.append(start+'에서 '+end+random.choice(['로 가는 ', ' 도착하는 ', '으로 가는 '])+random.choice(['', '버스 ', '티켓 ', '차 '])+date+arr_time+random.choice([' 안에 ', '내에 ', '까지 '])+random.choice(['도착하는거 예약해줘', '도착하는 걸로', '도착하는 걸로 예약할래']))"
      ],
      "metadata": {
        "id": "W43XPIAvpd_S"
      },
      "execution_count": null,
      "outputs": []
    },
    {
      "cell_type": "code",
      "source": [
        "#start에서 end 로 가는 버스 예약할거야. date arr_time 안에 도착하는 걸로.\n",
        "bus_list_d_5=[]\n",
        "for i in range(800):\n",
        "    start, end = get_route()\n",
        "    arr_time = random.choice([get_atime_hour(), get_atime_full_hour(), get_atime_hour_exact_min(), get_atime_full_hour_exact_min(), get_atime_hour_later()])\n",
        "\n",
        "    bus_list_d_5.append(start+'에서 '+end+random.choice(['로 가는', '으로 가는', '도착하는'])+random.choice([' ', ' 차 ', ' 버스 ', ' 티켓 '])+random.choice(reserve)+random.choice(['할거야.', '할래.', '해줘.'])+ arr_time+random.choice(['에 도착', '에 도착하는 걸로']))"
      ],
      "metadata": {
        "id": "6V_gx-Ftl06R"
      },
      "execution_count": null,
      "outputs": []
    },
    {
      "cell_type": "code",
      "source": [
        "bus_list=bus_list_d_1+bus_list_d_2+bus_list_d_3+bus_list_d_4+bus_list_d_5"
      ],
      "metadata": {
        "id": "NC8S67w9uN1a"
      },
      "execution_count": null,
      "outputs": []
    }
  ]
}