{
  "nbformat": 4,
  "nbformat_minor": 0,
  "metadata": {
    "colab": {
      "name": "crawling_route.ipynb",
      "private_outputs": true,
      "provenance": [],
      "collapsed_sections": [],
      "mount_file_id": "1Q9gF8Oi2-y9Xfm6cFtZaCulrdlYZNk3q",
      "authorship_tag": "ABX9TyPckDCz9bx2fTo6s5PRgINc"
    },
    "kernelspec": {
      "name": "python3",
      "display_name": "Python 3"
    },
    "language_info": {
      "name": "python"
    }
  },
  "cells": [
    {
      "cell_type": "markdown",
      "source": [
        "## install selenium"
      ],
      "metadata": {
        "id": "z6I_LEJ5Lcch"
      }
    },
    {
      "cell_type": "code",
      "execution_count": null,
      "metadata": {
        "id": "9klgnnFNLMse"
      },
      "outputs": [],
      "source": [
        "# 한 번만 실행\n",
        "!pip install selenium\n",
        "!apt-get update\n",
        "!apt install chromium-chromedriver\n",
        "!cp /usr/lib/chromium-browser/chromedriver /usr/bin"
      ]
    },
    {
      "cell_type": "markdown",
      "source": [
        "## import"
      ],
      "metadata": {
        "id": "hVnHwjfgL7Ak"
      }
    },
    {
      "cell_type": "code",
      "source": [
        "from selenium import webdriver\n",
        "from selenium.webdriver.support.ui import Select\n",
        "from selenium.webdriver.common.by import By\n",
        "\n",
        "import pandas as pd\n",
        "import re\n",
        "import numpy as np\n",
        "from tqdm import tqdm\n",
        "import json"
      ],
      "metadata": {
        "id": "advMfcJvLoHD"
      },
      "execution_count": null,
      "outputs": []
    },
    {
      "cell_type": "code",
      "source": [
        "# colab에서는 웹브라우저 창이 뜨지 않아 별도 설정\n",
        "options = webdriver.ChromeOptions()\n",
        "options.add_argument('--headless')        # Head-less 설정\n",
        "options.add_argument('--no-sandbox')\n",
        "options.add_argument('--disable-dev-shm-usage')\n",
        "driver = webdriver.Chrome('chromedriver', options=options)"
      ],
      "metadata": {
        "id": "-NaQ-LY2L50G"
      },
      "execution_count": null,
      "outputs": []
    },
    {
      "cell_type": "markdown",
      "source": [
        "## crawling"
      ],
      "metadata": {
        "id": "gyf2EUWGMFtP"
      }
    },
    {
      "cell_type": "code",
      "source": [
        "driver.get(\"http://www.exterminal.co.kr/line.asp\")"
      ],
      "metadata": {
        "id": "-QbMP-U_LuHq"
      },
      "execution_count": null,
      "outputs": []
    },
    {
      "cell_type": "code",
      "source": [
        "# iframe(웹페이지 안 웹페이지) 태그로 변경\n",
        "driver.switch_to.frame(driver.find_element(By.XPATH, '//iframe[@src=\"./include/kobus_rsv2.asp\"]'))"
      ],
      "metadata": {
        "id": "yDxlmXgxLvrG"
      },
      "execution_count": null,
      "outputs": []
    },
    {
      "cell_type": "code",
      "source": [
        "def get_route():\n",
        "    route = {}\n",
        "\n",
        "    # 출발지 선택\n",
        "    select_dep = Select(driver.find_element(By.ID, \"regForm01\"))\n",
        "    options_dep = select_dep.options\n",
        "\n",
        "    for i in tqdm(range(1, len(options_dep)), desc=\"crawling...\"):\n",
        "        select_dep.select_by_index(i)\n",
        "        dep = select_dep.first_selected_option.text\n",
        "    \n",
        "        # 도착지 목록 가져오기\n",
        "        select_arr = Select(driver.find_element(By.ID, \"regForm02\"))\n",
        "        options = select_arr.options\n",
        "\n",
        "        arr = []\n",
        "        for option in options:\n",
        "            arr.append(option.text)\n",
        "    \n",
        "        route[dep] = arr\n",
        "    \n",
        "    return route"
      ],
      "metadata": {
        "id": "VtSaVFlbLw_J"
      },
      "execution_count": null,
      "outputs": []
    },
    {
      "cell_type": "code",
      "source": [
        "route = get_route()"
      ],
      "metadata": {
        "id": "jrGqUAUPLydu"
      },
      "execution_count": null,
      "outputs": []
    },
    {
      "cell_type": "code",
      "source": [
        "keys = []\n",
        "values = []\n",
        "\n",
        "for key, value in route.items():\n",
        "     for v in value:\n",
        "        keys.append(key)\n",
        "        values.append(v)\n",
        "\n",
        "route_df = pd.DataFrame({'dep' : keys, 'arr' : values})"
      ],
      "metadata": {
        "id": "xLU4FaaCL0t3"
      },
      "execution_count": null,
      "outputs": []
    },
    {
      "cell_type": "markdown",
      "source": [
        "## 노선 정제"
      ],
      "metadata": {
        "id": "Mhshh8InRb_n"
      }
    },
    {
      "cell_type": "code",
      "source": [
        "def regular_expression(text):\n",
        "    pattern = '[가-힣]+'\n",
        "    result = re.compile(pattern).findall(text)\n",
        "    if len(result) > 0:\n",
        "        result = result[0]\n",
        "    else:\n",
        "        result = np.nan\n",
        "\n",
        "    return result"
      ],
      "metadata": {
        "id": "E-nB5LA7RYOt"
      },
      "execution_count": null,
      "outputs": []
    },
    {
      "cell_type": "code",
      "source": [
        "route_df['dep'] = route_df['dep'].apply(lambda x : regular_expression(x))"
      ],
      "metadata": {
        "id": "-SPugrtyRiVd"
      },
      "execution_count": null,
      "outputs": []
    },
    {
      "cell_type": "markdown",
      "source": [
        "* 크롤링시 문제같은데 도착지에 null값이 있음 -> 크롤링 코드를 수정해도 같음\n",
        "* 함수 적용 후 일단은 null값 제거"
      ],
      "metadata": {
        "id": "oV0VctQcRk3O"
      }
    },
    {
      "cell_type": "code",
      "source": [
        "route_df['arr'] = route_df['arr'].apply(lambda x : regular_expression(str(x)))"
      ],
      "metadata": {
        "id": "w1DvtrhVRi6C"
      },
      "execution_count": null,
      "outputs": []
    },
    {
      "cell_type": "code",
      "source": [
        "route_df = route_df.dropna()"
      ],
      "metadata": {
        "id": "ltK3Y4ijRqeP"
      },
      "execution_count": null,
      "outputs": []
    },
    {
      "cell_type": "code",
      "source": [
        "# save\n",
        "route_df.to_csv('route.csv', index = False)"
      ],
      "metadata": {
        "id": "BHzEq38qRaGJ"
      },
      "execution_count": null,
      "outputs": []
    },
    {
      "cell_type": "code",
      "source": [
        ""
      ],
      "metadata": {
        "id": "jyhVmAx6SI5R"
      },
      "execution_count": null,
      "outputs": []
    }
  ]
}